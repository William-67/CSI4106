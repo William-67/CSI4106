{
  "nbformat": 4,
  "nbformat_minor": 0,
  "metadata": {
    "colab": {
      "provenance": []
    },
    "kernelspec": {
      "name": "python3",
      "display_name": "Python 3"
    },
    "language_info": {
      "name": "python"
    }
  },
  "cells": [
    {
      "cell_type": "markdown",
      "source": [
        "ASSIGNMENT 1"
      ],
      "metadata": {
        "id": "E-cbOJkBJvFe"
      }
    },
    {
      "cell_type": "markdown",
      "source": [
        "Group 67\n",
        "\n",
        "300145970 Lixiong Wei\n",
        "\n",
        "300126813 Zhiyuan Lin"
      ],
      "metadata": {
        "id": "BOGMGQXlJ160"
      }
    },
    {
      "cell_type": "markdown",
      "source": [
        "**Knapsack Problem**"
      ],
      "metadata": {
        "id": "39D7m1E3KJuT"
      }
    },
    {
      "cell_type": "markdown",
      "source": [
        "**Import Dataset**"
      ],
      "metadata": {
        "id": "mSS3g4gGKRgY"
      }
    },
    {
      "cell_type": "markdown",
      "source": [
        "The dataset used is for knapsack problem, which determine the optimal way to store item into bag\n",
        "with minimal weight and maximal value.\n",
        "\n",
        "Dataset Reference: https://www.kaggle.com/datasets/warcoder/knapsack-problem?resource=download\n"
      ],
      "metadata": {
        "id": "-d_7gVbsKVE6"
      }
    },
    {
      "cell_type": "code",
      "source": [
        "#Import libraries needed\n",
        "\n",
        "import pandas as pd\n",
        "import itertools\n",
        "import numpy as np"
      ],
      "metadata": {
        "id": "M7pQyjsQHZff"
      },
      "execution_count": 1,
      "outputs": []
    },
    {
      "cell_type": "markdown",
      "source": [
        "**Read DataSet**\n",
        "\n",
        "Raw data link: https://raw.githubusercontent.com/William-67/CSI4106/main/A1/knapsack_5_items.csv\n"
      ],
      "metadata": {
        "id": "AkL4zPtsKqYU"
      }
    },
    {
      "cell_type": "code",
      "execution_count": 11,
      "metadata": {
        "id": "bJie5T83vwOI"
      },
      "outputs": [],
      "source": [
        "url = 'https://raw.githubusercontent.com/William-67/CSI4106/main/A1/knapsack_5_items.csv'\n",
        "dataset = pd.read_csv(url)\n"
      ]
    },
    {
      "cell_type": "code",
      "source": [
        "dataset.columns"
      ],
      "metadata": {
        "colab": {
          "base_uri": "https://localhost:8080/"
        },
        "id": "vNCbDsAHLPwo",
        "outputId": "3dccd771-9a03-402e-c2d1-76768829699a"
      },
      "execution_count": 12,
      "outputs": [
        {
          "output_type": "execute_result",
          "data": {
            "text/plain": [
              "Index(['Weights', 'Prices', 'Capacity', 'Best picks', 'Best price'], dtype='object')"
            ]
          },
          "metadata": {},
          "execution_count": 12
        }
      ]
    },
    {
      "cell_type": "markdown",
      "source": [
        "**Test the data by printing out first 10 rows **"
      ],
      "metadata": {
        "id": "KHUJxCxRB7SK"
      }
    },
    {
      "cell_type": "code",
      "source": [
        "dataset.head(10)"
      ],
      "metadata": {
        "colab": {
          "base_uri": "https://localhost:8080/",
          "height": 363
        },
        "id": "R2xIhHr8B6jB",
        "outputId": "17e13f53-0821-4665-b42d-670a290252a4"
      },
      "execution_count": 13,
      "outputs": [
        {
          "output_type": "execute_result",
          "data": {
            "text/plain": [
              "            Weights            Prices  Capacity        Best picks  Best price\n",
              "0  [46 40 42 38 10]  [12 19 19 15  8]        40  [0. 1. 0. 0. 0.]        19.0\n",
              "1  [11 31  4  6  7]  [ 2  8 18 16  3]        64  [1. 1. 1. 1. 1.]        47.0\n",
              "2  [32 49 27 37 24]  [19 16 16  4  1]        87  [1. 0. 1. 0. 1.]        36.0\n",
              "3  [20 35 22 23 16]  [19 17 19  9  1]        21  [1. 0. 0. 0. 0.]        19.0\n",
              "4  [ 7 12 19 13 20]  [10 11 18 15  5]        50  [0. 1. 1. 1. 0.]        44.0\n",
              "5  [27 10 25 25  7]  [13 19  7 16  3]        66  [1. 1. 0. 1. 0.]        48.0\n",
              "6  [21  2 33 45 26]  [ 1 14 10  6 13]        80  [0. 1. 1. 0. 1.]        37.0\n",
              "7  [37 27 39 14 25]  [18  7 15  4 13]        35  [0. 0. 0. 0. 1.]        13.0\n",
              "8  [ 1 48  4 23 39]  [ 9  4 10 16 12]        51  [1. 0. 1. 1. 0.]        35.0\n",
              "9  [ 4  3 22  9 32]  [14  6  3 17  8]        53  [1. 1. 0. 1. 1.]        45.0"
            ],
            "text/html": [
              "\n",
              "  <div id=\"df-b344fa25-c4d1-4f16-9249-040b2a1ab738\" class=\"colab-df-container\">\n",
              "    <div>\n",
              "<style scoped>\n",
              "    .dataframe tbody tr th:only-of-type {\n",
              "        vertical-align: middle;\n",
              "    }\n",
              "\n",
              "    .dataframe tbody tr th {\n",
              "        vertical-align: top;\n",
              "    }\n",
              "\n",
              "    .dataframe thead th {\n",
              "        text-align: right;\n",
              "    }\n",
              "</style>\n",
              "<table border=\"1\" class=\"dataframe\">\n",
              "  <thead>\n",
              "    <tr style=\"text-align: right;\">\n",
              "      <th></th>\n",
              "      <th>Weights</th>\n",
              "      <th>Prices</th>\n",
              "      <th>Capacity</th>\n",
              "      <th>Best picks</th>\n",
              "      <th>Best price</th>\n",
              "    </tr>\n",
              "  </thead>\n",
              "  <tbody>\n",
              "    <tr>\n",
              "      <th>0</th>\n",
              "      <td>[46 40 42 38 10]</td>\n",
              "      <td>[12 19 19 15  8]</td>\n",
              "      <td>40</td>\n",
              "      <td>[0. 1. 0. 0. 0.]</td>\n",
              "      <td>19.0</td>\n",
              "    </tr>\n",
              "    <tr>\n",
              "      <th>1</th>\n",
              "      <td>[11 31  4  6  7]</td>\n",
              "      <td>[ 2  8 18 16  3]</td>\n",
              "      <td>64</td>\n",
              "      <td>[1. 1. 1. 1. 1.]</td>\n",
              "      <td>47.0</td>\n",
              "    </tr>\n",
              "    <tr>\n",
              "      <th>2</th>\n",
              "      <td>[32 49 27 37 24]</td>\n",
              "      <td>[19 16 16  4  1]</td>\n",
              "      <td>87</td>\n",
              "      <td>[1. 0. 1. 0. 1.]</td>\n",
              "      <td>36.0</td>\n",
              "    </tr>\n",
              "    <tr>\n",
              "      <th>3</th>\n",
              "      <td>[20 35 22 23 16]</td>\n",
              "      <td>[19 17 19  9  1]</td>\n",
              "      <td>21</td>\n",
              "      <td>[1. 0. 0. 0. 0.]</td>\n",
              "      <td>19.0</td>\n",
              "    </tr>\n",
              "    <tr>\n",
              "      <th>4</th>\n",
              "      <td>[ 7 12 19 13 20]</td>\n",
              "      <td>[10 11 18 15  5]</td>\n",
              "      <td>50</td>\n",
              "      <td>[0. 1. 1. 1. 0.]</td>\n",
              "      <td>44.0</td>\n",
              "    </tr>\n",
              "    <tr>\n",
              "      <th>5</th>\n",
              "      <td>[27 10 25 25  7]</td>\n",
              "      <td>[13 19  7 16  3]</td>\n",
              "      <td>66</td>\n",
              "      <td>[1. 1. 0. 1. 0.]</td>\n",
              "      <td>48.0</td>\n",
              "    </tr>\n",
              "    <tr>\n",
              "      <th>6</th>\n",
              "      <td>[21  2 33 45 26]</td>\n",
              "      <td>[ 1 14 10  6 13]</td>\n",
              "      <td>80</td>\n",
              "      <td>[0. 1. 1. 0. 1.]</td>\n",
              "      <td>37.0</td>\n",
              "    </tr>\n",
              "    <tr>\n",
              "      <th>7</th>\n",
              "      <td>[37 27 39 14 25]</td>\n",
              "      <td>[18  7 15  4 13]</td>\n",
              "      <td>35</td>\n",
              "      <td>[0. 0. 0. 0. 1.]</td>\n",
              "      <td>13.0</td>\n",
              "    </tr>\n",
              "    <tr>\n",
              "      <th>8</th>\n",
              "      <td>[ 1 48  4 23 39]</td>\n",
              "      <td>[ 9  4 10 16 12]</td>\n",
              "      <td>51</td>\n",
              "      <td>[1. 0. 1. 1. 0.]</td>\n",
              "      <td>35.0</td>\n",
              "    </tr>\n",
              "    <tr>\n",
              "      <th>9</th>\n",
              "      <td>[ 4  3 22  9 32]</td>\n",
              "      <td>[14  6  3 17  8]</td>\n",
              "      <td>53</td>\n",
              "      <td>[1. 1. 0. 1. 1.]</td>\n",
              "      <td>45.0</td>\n",
              "    </tr>\n",
              "  </tbody>\n",
              "</table>\n",
              "</div>\n",
              "    <div class=\"colab-df-buttons\">\n",
              "\n",
              "  <div class=\"colab-df-container\">\n",
              "    <button class=\"colab-df-convert\" onclick=\"convertToInteractive('df-b344fa25-c4d1-4f16-9249-040b2a1ab738')\"\n",
              "            title=\"Convert this dataframe to an interactive table.\"\n",
              "            style=\"display:none;\">\n",
              "\n",
              "  <svg xmlns=\"http://www.w3.org/2000/svg\" height=\"24px\" viewBox=\"0 -960 960 960\">\n",
              "    <path d=\"M120-120v-720h720v720H120Zm60-500h600v-160H180v160Zm220 220h160v-160H400v160Zm0 220h160v-160H400v160ZM180-400h160v-160H180v160Zm440 0h160v-160H620v160ZM180-180h160v-160H180v160Zm440 0h160v-160H620v160Z\"/>\n",
              "  </svg>\n",
              "    </button>\n",
              "\n",
              "  <style>\n",
              "    .colab-df-container {\n",
              "      display:flex;\n",
              "      gap: 12px;\n",
              "    }\n",
              "\n",
              "    .colab-df-convert {\n",
              "      background-color: #E8F0FE;\n",
              "      border: none;\n",
              "      border-radius: 50%;\n",
              "      cursor: pointer;\n",
              "      display: none;\n",
              "      fill: #1967D2;\n",
              "      height: 32px;\n",
              "      padding: 0 0 0 0;\n",
              "      width: 32px;\n",
              "    }\n",
              "\n",
              "    .colab-df-convert:hover {\n",
              "      background-color: #E2EBFA;\n",
              "      box-shadow: 0px 1px 2px rgba(60, 64, 67, 0.3), 0px 1px 3px 1px rgba(60, 64, 67, 0.15);\n",
              "      fill: #174EA6;\n",
              "    }\n",
              "\n",
              "    .colab-df-buttons div {\n",
              "      margin-bottom: 4px;\n",
              "    }\n",
              "\n",
              "    [theme=dark] .colab-df-convert {\n",
              "      background-color: #3B4455;\n",
              "      fill: #D2E3FC;\n",
              "    }\n",
              "\n",
              "    [theme=dark] .colab-df-convert:hover {\n",
              "      background-color: #434B5C;\n",
              "      box-shadow: 0px 1px 3px 1px rgba(0, 0, 0, 0.15);\n",
              "      filter: drop-shadow(0px 1px 2px rgba(0, 0, 0, 0.3));\n",
              "      fill: #FFFFFF;\n",
              "    }\n",
              "  </style>\n",
              "\n",
              "    <script>\n",
              "      const buttonEl =\n",
              "        document.querySelector('#df-b344fa25-c4d1-4f16-9249-040b2a1ab738 button.colab-df-convert');\n",
              "      buttonEl.style.display =\n",
              "        google.colab.kernel.accessAllowed ? 'block' : 'none';\n",
              "\n",
              "      async function convertToInteractive(key) {\n",
              "        const element = document.querySelector('#df-b344fa25-c4d1-4f16-9249-040b2a1ab738');\n",
              "        const dataTable =\n",
              "          await google.colab.kernel.invokeFunction('convertToInteractive',\n",
              "                                                    [key], {});\n",
              "        if (!dataTable) return;\n",
              "\n",
              "        const docLinkHtml = 'Like what you see? Visit the ' +\n",
              "          '<a target=\"_blank\" href=https://colab.research.google.com/notebooks/data_table.ipynb>data table notebook</a>'\n",
              "          + ' to learn more about interactive tables.';\n",
              "        element.innerHTML = '';\n",
              "        dataTable['output_type'] = 'display_data';\n",
              "        await google.colab.output.renderOutput(dataTable, element);\n",
              "        const docLink = document.createElement('div');\n",
              "        docLink.innerHTML = docLinkHtml;\n",
              "        element.appendChild(docLink);\n",
              "      }\n",
              "    </script>\n",
              "  </div>\n",
              "\n",
              "\n",
              "<div id=\"df-4d0641c4-0830-41a7-b523-f200cfde0df0\">\n",
              "  <button class=\"colab-df-quickchart\" onclick=\"quickchart('df-4d0641c4-0830-41a7-b523-f200cfde0df0')\"\n",
              "            title=\"Suggest charts.\"\n",
              "            style=\"display:none;\">\n",
              "\n",
              "<svg xmlns=\"http://www.w3.org/2000/svg\" height=\"24px\"viewBox=\"0 0 24 24\"\n",
              "     width=\"24px\">\n",
              "    <g>\n",
              "        <path d=\"M19 3H5c-1.1 0-2 .9-2 2v14c0 1.1.9 2 2 2h14c1.1 0 2-.9 2-2V5c0-1.1-.9-2-2-2zM9 17H7v-7h2v7zm4 0h-2V7h2v10zm4 0h-2v-4h2v4z\"/>\n",
              "    </g>\n",
              "</svg>\n",
              "  </button>\n",
              "\n",
              "<style>\n",
              "  .colab-df-quickchart {\n",
              "      --bg-color: #E8F0FE;\n",
              "      --fill-color: #1967D2;\n",
              "      --hover-bg-color: #E2EBFA;\n",
              "      --hover-fill-color: #174EA6;\n",
              "      --disabled-fill-color: #AAA;\n",
              "      --disabled-bg-color: #DDD;\n",
              "  }\n",
              "\n",
              "  [theme=dark] .colab-df-quickchart {\n",
              "      --bg-color: #3B4455;\n",
              "      --fill-color: #D2E3FC;\n",
              "      --hover-bg-color: #434B5C;\n",
              "      --hover-fill-color: #FFFFFF;\n",
              "      --disabled-bg-color: #3B4455;\n",
              "      --disabled-fill-color: #666;\n",
              "  }\n",
              "\n",
              "  .colab-df-quickchart {\n",
              "    background-color: var(--bg-color);\n",
              "    border: none;\n",
              "    border-radius: 50%;\n",
              "    cursor: pointer;\n",
              "    display: none;\n",
              "    fill: var(--fill-color);\n",
              "    height: 32px;\n",
              "    padding: 0;\n",
              "    width: 32px;\n",
              "  }\n",
              "\n",
              "  .colab-df-quickchart:hover {\n",
              "    background-color: var(--hover-bg-color);\n",
              "    box-shadow: 0 1px 2px rgba(60, 64, 67, 0.3), 0 1px 3px 1px rgba(60, 64, 67, 0.15);\n",
              "    fill: var(--button-hover-fill-color);\n",
              "  }\n",
              "\n",
              "  .colab-df-quickchart-complete:disabled,\n",
              "  .colab-df-quickchart-complete:disabled:hover {\n",
              "    background-color: var(--disabled-bg-color);\n",
              "    fill: var(--disabled-fill-color);\n",
              "    box-shadow: none;\n",
              "  }\n",
              "\n",
              "  .colab-df-spinner {\n",
              "    border: 2px solid var(--fill-color);\n",
              "    border-color: transparent;\n",
              "    border-bottom-color: var(--fill-color);\n",
              "    animation:\n",
              "      spin 1s steps(1) infinite;\n",
              "  }\n",
              "\n",
              "  @keyframes spin {\n",
              "    0% {\n",
              "      border-color: transparent;\n",
              "      border-bottom-color: var(--fill-color);\n",
              "      border-left-color: var(--fill-color);\n",
              "    }\n",
              "    20% {\n",
              "      border-color: transparent;\n",
              "      border-left-color: var(--fill-color);\n",
              "      border-top-color: var(--fill-color);\n",
              "    }\n",
              "    30% {\n",
              "      border-color: transparent;\n",
              "      border-left-color: var(--fill-color);\n",
              "      border-top-color: var(--fill-color);\n",
              "      border-right-color: var(--fill-color);\n",
              "    }\n",
              "    40% {\n",
              "      border-color: transparent;\n",
              "      border-right-color: var(--fill-color);\n",
              "      border-top-color: var(--fill-color);\n",
              "    }\n",
              "    60% {\n",
              "      border-color: transparent;\n",
              "      border-right-color: var(--fill-color);\n",
              "    }\n",
              "    80% {\n",
              "      border-color: transparent;\n",
              "      border-right-color: var(--fill-color);\n",
              "      border-bottom-color: var(--fill-color);\n",
              "    }\n",
              "    90% {\n",
              "      border-color: transparent;\n",
              "      border-bottom-color: var(--fill-color);\n",
              "    }\n",
              "  }\n",
              "</style>\n",
              "\n",
              "  <script>\n",
              "    async function quickchart(key) {\n",
              "      const quickchartButtonEl =\n",
              "        document.querySelector('#' + key + ' button');\n",
              "      quickchartButtonEl.disabled = true;  // To prevent multiple clicks.\n",
              "      quickchartButtonEl.classList.add('colab-df-spinner');\n",
              "      try {\n",
              "        const charts = await google.colab.kernel.invokeFunction(\n",
              "            'suggestCharts', [key], {});\n",
              "      } catch (error) {\n",
              "        console.error('Error during call to suggestCharts:', error);\n",
              "      }\n",
              "      quickchartButtonEl.classList.remove('colab-df-spinner');\n",
              "      quickchartButtonEl.classList.add('colab-df-quickchart-complete');\n",
              "    }\n",
              "    (() => {\n",
              "      let quickchartButtonEl =\n",
              "        document.querySelector('#df-4d0641c4-0830-41a7-b523-f200cfde0df0 button');\n",
              "      quickchartButtonEl.style.display =\n",
              "        google.colab.kernel.accessAllowed ? 'block' : 'none';\n",
              "    })();\n",
              "  </script>\n",
              "</div>\n",
              "    </div>\n",
              "  </div>\n"
            ]
          },
          "metadata": {},
          "execution_count": 13
        }
      ]
    },
    {
      "cell_type": "markdown",
      "source": [
        "Write a function to convert data into array of floats or integers\n",
        "\n",
        "ex. [45 40 42 38 10] -> [45,40,42,38,10]"
      ],
      "metadata": {
        "id": "RYyokeIMCfhY"
      }
    },
    {
      "cell_type": "code",
      "source": [
        "def string_to_list(string):\n",
        "\n",
        "  string_list = string.strip('[]').split()\n",
        "\n",
        "  float_list = [float(element) for element in string_list]\n",
        "\n",
        "  return float_list"
      ],
      "metadata": {
        "id": "d1frpwVTCNA5"
      },
      "execution_count": 14,
      "outputs": []
    },
    {
      "cell_type": "markdown",
      "source": [
        "Furthermore, it's possible that certain rows in the dataset contain empty values in specific columns. We also aim to eliminate these rows as they do not provide any useful information. We use dropna() function to do so:\n"
      ],
      "metadata": {
        "id": "hlib-hi1EsRy"
      }
    },
    {
      "cell_type": "code",
      "source": [
        "#Ignore the warning messages.\n",
        "\n",
        "dataset = dataset.dropna()\n",
        "\n",
        "dataset.Weights = dataset.Weights.apply(lambda x : string_to_list(x))\n",
        "dataset.Prices = dataset.Prices.apply(lambda x : string_to_list(x))\n",
        "dataset['Best picks'] = dataset['Best picks'].apply(lambda x : string_to_list(x))"
      ],
      "metadata": {
        "id": "FfIEfzxlG73K",
        "colab": {
          "base_uri": "https://localhost:8080/"
        },
        "outputId": "51271b1b-c196-47dc-fed6-ff26f6136665"
      },
      "execution_count": 15,
      "outputs": [
        {
          "output_type": "stream",
          "name": "stderr",
          "text": [
            "<ipython-input-15-833fb421dc49>:5: SettingWithCopyWarning: \n",
            "A value is trying to be set on a copy of a slice from a DataFrame.\n",
            "Try using .loc[row_indexer,col_indexer] = value instead\n",
            "\n",
            "See the caveats in the documentation: https://pandas.pydata.org/pandas-docs/stable/user_guide/indexing.html#returning-a-view-versus-a-copy\n",
            "  dataset.Weights = dataset.Weights.apply(lambda x : string_to_list(x))\n",
            "<ipython-input-15-833fb421dc49>:6: SettingWithCopyWarning: \n",
            "A value is trying to be set on a copy of a slice from a DataFrame.\n",
            "Try using .loc[row_indexer,col_indexer] = value instead\n",
            "\n",
            "See the caveats in the documentation: https://pandas.pydata.org/pandas-docs/stable/user_guide/indexing.html#returning-a-view-versus-a-copy\n",
            "  dataset.Prices = dataset.Prices.apply(lambda x : string_to_list(x))\n",
            "<ipython-input-15-833fb421dc49>:7: SettingWithCopyWarning: \n",
            "A value is trying to be set on a copy of a slice from a DataFrame.\n",
            "Try using .loc[row_indexer,col_indexer] = value instead\n",
            "\n",
            "See the caveats in the documentation: https://pandas.pydata.org/pandas-docs/stable/user_guide/indexing.html#returning-a-view-versus-a-copy\n",
            "  dataset['Best picks'] = dataset['Best picks'].apply(lambda x : string_to_list(x))\n"
          ]
        }
      ]
    },
    {
      "cell_type": "code",
      "source": [
        "#This is a self test to view how the data in row looks like\n",
        "\n",
        "for a, row in dataset.iterrows():\n",
        "  if a<3:\n",
        "    print(row)"
      ],
      "metadata": {
        "id": "4rj5b3rKKDVL",
        "colab": {
          "base_uri": "https://localhost:8080/"
        },
        "outputId": "f6d80575-9724-4083-987f-03a15a9f786c"
      },
      "execution_count": 44,
      "outputs": [
        {
          "output_type": "stream",
          "name": "stdout",
          "text": [
            "Weights       [46.0, 40.0, 42.0, 38.0, 10.0]\n",
            "Prices         [12.0, 19.0, 19.0, 15.0, 8.0]\n",
            "Capacity                                  40\n",
            "Best picks         [0.0, 1.0, 0.0, 0.0, 0.0]\n",
            "Best price                              19.0\n",
            "Name: 0, dtype: object\n",
            "Weights       [11.0, 31.0, 4.0, 6.0, 7.0]\n",
            "Prices        [2.0, 8.0, 18.0, 16.0, 3.0]\n",
            "Capacity                               64\n",
            "Best picks      [1.0, 1.0, 1.0, 1.0, 1.0]\n",
            "Best price                           47.0\n",
            "Name: 1, dtype: object\n",
            "Weights       [32.0, 49.0, 27.0, 37.0, 24.0]\n",
            "Prices          [19.0, 16.0, 16.0, 4.0, 1.0]\n",
            "Capacity                                  87\n",
            "Best picks         [1.0, 0.0, 1.0, 0.0, 1.0]\n",
            "Best price                              36.0\n",
            "Name: 2, dtype: object\n"
          ]
        }
      ]
    },
    {
      "cell_type": "markdown",
      "source": [
        "**Generate and Test**\n",
        "\n",
        "Generate all situation and choose the optimal one (**Maximum Price**) in each row"
      ],
      "metadata": {
        "id": "AW4iEg4GHilw"
      }
    },
    {
      "cell_type": "code",
      "source": [
        "def gen_and_test(data):\n",
        "\n",
        "  # initialize\n",
        "  weights = data['Weights']\n",
        "  prices = data['Prices']\n",
        "  capacities = data['Capacity']\n",
        "\n",
        "  best_solution_price = 0\n",
        "  best_solution = [0,0,0,0,0]\n",
        "\n",
        "  # the five for loop contains 2^5 = 32 situations\n",
        "\n",
        "  for i in range(2):\n",
        "    for j in range(2):\n",
        "      for k in range(2):\n",
        "        for m in range(2):\n",
        "          for l in range(2):\n",
        "\n",
        "            #calculating each weight and price\n",
        "            weight = weights[0] * i + weights[1] * j + weights[2] * k + weights[3] * m + weights[4] * l\n",
        "            price = prices[0] * i + prices[1] * j + prices[2] * k + prices[3] * m + prices[4] * l\n",
        "\n",
        "            #hard constraint part\n",
        "            if weight <= capacities:\n",
        "\n",
        "              if price > best_solution_price:\n",
        "\n",
        "                best_solution_price = price\n",
        "                best_solution = [i,j,k,m,l]\n",
        "\n",
        "  return best_solution_price, best_solution"
      ],
      "metadata": {
        "id": "11UvX-ZsHh71"
      },
      "execution_count": 17,
      "outputs": []
    },
    {
      "cell_type": "code",
      "source": [
        "solutions = []\n",
        "for _, row in dataset.iterrows():\n",
        "    target = row['Best price']\n",
        "    solution, indexes = gen_and_test(row)\n",
        "    solutions.append(1 if target == solution else 0)\n"
      ],
      "metadata": {
        "id": "EvoCrPVDHs6e"
      },
      "execution_count": 18,
      "outputs": []
    },
    {
      "cell_type": "code",
      "source": [
        "# Accuracy\n",
        "print('Accuracy of best prices found is', np.mean(solutions))"
      ],
      "metadata": {
        "colab": {
          "base_uri": "https://localhost:8080/"
        },
        "id": "Fiw1i0obHuo5",
        "outputId": "64ce3260-6af8-4563-bee1-7370f5f45656"
      },
      "execution_count": 19,
      "outputs": [
        {
          "output_type": "stream",
          "name": "stdout",
          "text": [
            "Accuracy of best prices found is 1.0\n"
          ]
        }
      ]
    },
    {
      "cell_type": "markdown",
      "source": [
        "**Analysis:**\n",
        "\n",
        "The generate and test algorithm gives us 1.0 accuracy, which is 100% match with the choice provided by the authors.\n",
        "\n",
        "The algorithm is able to handle small amout of data. In this example, for each row of data, there are only 2^5 = 32 situations. Therefore; each situation can be evaluated which makes decision making easier."
      ],
      "metadata": {
        "id": "_ecWjtvWXiBl"
      }
    },
    {
      "cell_type": "markdown",
      "source": [
        "--------------------------------------------------------------------------------------------------------------------------------------------------------------------------------------------------------------------------------------------------------------------------------------------------------------------------------"
      ],
      "metadata": {
        "id": "D471J_wXTgju"
      }
    },
    {
      "cell_type": "markdown",
      "source": [
        "**Implement 3 more algorithm for this problem**"
      ],
      "metadata": {
        "id": "CHyzfXflZSD5"
      }
    },
    {
      "cell_type": "markdown",
      "source": [
        "**1. Greedy Search**\n",
        "\n"
      ],
      "metadata": {
        "id": "MYpcr-SAYdjS"
      }
    },
    {
      "cell_type": "markdown",
      "source": [
        "Greddy search is an approach for solving a problem by selecting the best option available at the moment and doesn't worry if the final result is optimal."
      ],
      "metadata": {
        "id": "EP-YK3UfZqyd"
      }
    },
    {
      "cell_type": "markdown",
      "source": [
        "There are two types of strategy to implement the greedy algorithm\n",
        "1. go by **highest value**, for two equal values, choose the least heavy\n",
        "2. go by **heaviest**. choose the highest value if two weight equal\n",
        "\n",
        "We decided to use the first approach."
      ],
      "metadata": {
        "id": "5hB93J0fA58u"
      }
    },
    {
      "cell_type": "code",
      "source": [
        "def greedy(data):\n",
        "\n",
        "  #initialize\n",
        "  weights = data['Weights']\n",
        "  prices = data['Prices']\n",
        "  capacity = data['Capacity']\n",
        "\n",
        "  best_solution_price = 0\n",
        "  best_solution = [0,0,0,0,0]\n",
        "\n",
        "  #create a temperatory list for recording the prices and weights sorted in descending order\n",
        "  #In order to maintain the integrity of origin list\n",
        "  #In another words, Deep Copy\n",
        "\n",
        "  tmp_prices = [0,0,0,0,0]\n",
        "  tmp_weights = [0,0,0,0,0]\n",
        "  for i in range(len(prices)):\n",
        "    tmp_prices[i] = prices[i]\n",
        "    tmp_weights[i] = weights[i]\n",
        "\n",
        "  #start the choosing process\n",
        "  curr_weight = 0\n",
        "\n",
        "  #Keep filling the bag if room available\n",
        "  #The process should stop when there's no item can be chosen\n",
        "  while(curr_weight < capacity and len(tmp_prices)!=0):\n",
        "\n",
        "    #choose the item with max value\n",
        "    max_value = prices[0]\n",
        "    item_index = 0\n",
        "\n",
        "    for i in range(len(tmp_prices)):\n",
        "\n",
        "      if max_value < tmp_prices[i]:\n",
        "        max_value = tmp_prices[i]\n",
        "        item_index = i\n",
        "\n",
        "    if(curr_weight <= (capacity - tmp_weights[item_index])):\n",
        "\n",
        "      best_solution_price += tmp_prices[item_index]\n",
        "      best_solution[item_index] = 1\n",
        "      curr_weight += tmp_weights[item_index]\n",
        "\n",
        "    #remove the item after checking\n",
        "    tmp_prices.remove(tmp_prices[item_index])\n",
        "    tmp_weights.remove(tmp_weights[item_index])\n",
        "\n",
        "  return best_solution_price, best_solution"
      ],
      "metadata": {
        "id": "j0rLhifi-LIf"
      },
      "execution_count": 41,
      "outputs": []
    },
    {
      "cell_type": "code",
      "source": [
        "solutions_greedy = []\n",
        "for _, row in dataset.iterrows():\n",
        "    target = row['Best price']\n",
        "    solution, indexes = greedy(row)\n",
        "    solutions_greedy.append(1 if target == solution else 0)\n"
      ],
      "metadata": {
        "id": "6m7J3riQ-Ma4"
      },
      "execution_count": 42,
      "outputs": []
    },
    {
      "cell_type": "code",
      "source": [
        "print(\"Greedy Accuracy is\", np.mean(solutions_greedy))"
      ],
      "metadata": {
        "colab": {
          "base_uri": "https://localhost:8080/"
        },
        "id": "OKLaD77r-PFk",
        "outputId": "9e83b2fa-d93e-4ec9-fffb-fc0a9d412db4"
      },
      "execution_count": 43,
      "outputs": [
        {
          "output_type": "stream",
          "name": "stdout",
          "text": [
            "Greedy Accuracy is 0.7880352262374735\n"
          ]
        }
      ]
    },
    {
      "cell_type": "markdown",
      "source": [
        "**Analysis:**\n",
        "\n",
        "The generate and test algorithm gives us 0.788 accuracy, which is 78.8% match with the choice provided by the authors.\n",
        "\n",
        "The alogorithm is not as accuracy as generate and test because greedy search does not output the optimal solution. However, we obtain 78% accuracy, which is also consider accurate."
      ],
      "metadata": {
        "id": "eH944eDJRXrT"
      }
    },
    {
      "cell_type": "markdown",
      "source": [
        "----------------------------------------------------------------------------------------------------------------------------------------------------------------------------------------------------------------------------------------------------------------------------------------------------------------------------------------------------------------------------------------------------------------------------------------------------------------------------------------------"
      ],
      "metadata": {
        "id": "h5I5SEMKUiNc"
      }
    },
    {
      "cell_type": "markdown",
      "source": [
        "**2. Simulated Annealing**"
      ],
      "metadata": {
        "id": "zFnyEDWkUnxz"
      }
    },
    {
      "cell_type": "markdown",
      "source": [
        "Simulated Annealing algorithm comes from physics, which is used to find the global optima. The algorithm set an initial state and keep track of temperature, then gentally lower down the temperature and decide the new optimal value based on if the exponential of the change is greater than random number from 0 to 1. The algorithm stop when meets with minimal requirement."
      ],
      "metadata": {
        "id": "JH1EjHqo0sfS"
      }
    },
    {
      "cell_type": "code",
      "source": [
        "import random\n",
        "import math\n",
        "\n",
        "\n",
        "def simulated_annealing(data, N, initial_temperature, cooling_rate):\n",
        "\n",
        "  #initialize\n",
        "  weights = data['Weights']\n",
        "  prices = data['Prices']\n",
        "  capacity = data['Capacity']\n",
        "  num_items = len(weights)\n",
        "\n",
        "  # Function to calculate the total price of a solution\n",
        "  def calculate_total_price(solution):\n",
        "      total_price = 0\n",
        "      total_weight = 0\n",
        "      for i in range(num_items):\n",
        "          total_price += solution[i] * prices[i]\n",
        "          total_weight += solution[i] * weights[i]\n",
        "      return total_price, total_weight\n",
        "\n",
        "  # Initialize the current solution randomly\n",
        "  current_solution = [0,0,0,0,0]\n",
        "  current_price, current_weight = calculate_total_price(current_solution)\n",
        "\n",
        "  # Initialize the best solution\n",
        "  best_solution = current_solution.copy()\n",
        "  best_solution_price, best_weight = calculate_total_price(best_solution)\n",
        "\n",
        "  #list of founded neighbour solution so that would not go back again\n",
        "  neighbour_list = []\n",
        "\n",
        "  # Main simulated annealing loop\n",
        "  temperature = initial_temperature\n",
        "  #define the minimal temperature, this can be changed\n",
        "  while temperature > 0.005:\n",
        "\n",
        "      # Generate a neighboring solution by flipping a random item\n",
        "      neighbor_solution = current_solution.copy()\n",
        "\n",
        "      index_to_flip = random.randint(0, num_items - 1)\n",
        "      neighbor_solution[index_to_flip] = 1 - neighbor_solution[index_to_flip]  # Flip 0 to 1 or 1 to 0\n",
        "      neighbor_price, neighbor_weight = calculate_total_price(neighbor_solution)\n",
        "\n",
        "      # Calculate the change in cost (price) due to the neighbor solution\n",
        "      if not (neighbor_solution in neighbour_list):\n",
        "        cost_change = neighbor_price - current_price\n",
        "\n",
        "        # If the neighbor solution is better or accepted with a certain probability, update the current solution\n",
        "        if cost_change > 0 or random.random() < math.exp(cost_change / temperature):\n",
        "          current_solution = neighbor_solution\n",
        "          current_price = neighbor_price\n",
        "          current_weight = neighbor_weight\n",
        "\n",
        "          # Update the best solution if needed\n",
        "          if current_price > best_solution_price and current_weight <= capacity:\n",
        "            best_solution = current_solution.copy()\n",
        "            best_solution_price = current_price\n",
        "\n",
        "          neighbour_list.append(current_solution)\n",
        "\n",
        "        # Reduce the temperature\n",
        "      temperature *= cooling_rate\n",
        "  return best_solution_price, best_solution\n"
      ],
      "metadata": {
        "id": "9-_A9hBH0tQB"
      },
      "execution_count": 31,
      "outputs": []
    },
    {
      "cell_type": "code",
      "source": [
        "solutions_sa = []\n",
        "for _, row in dataset.iterrows():\n",
        "    target = row['Best price']\n",
        "    solution, indexes = simulated_annealing(row, N = 10, initial_temperature=1, cooling_rate=0.95)\n",
        "    solutions_sa.append(1 if target == solution else 0)\n"
      ],
      "metadata": {
        "id": "M_zQQdps2GjJ"
      },
      "execution_count": 36,
      "outputs": []
    },
    {
      "cell_type": "markdown",
      "source": [
        "**Changing the initial temperature has significant effect on the accuracy!**\n",
        "\n",
        "**See the analysis for more detail**"
      ],
      "metadata": {
        "id": "fbIEzIZmu478"
      }
    },
    {
      "cell_type": "code",
      "source": [
        "print(\"Simulated Annealing Accuracy is\", np.mean(solutions_sa))"
      ],
      "metadata": {
        "colab": {
          "base_uri": "https://localhost:8080/"
        },
        "id": "7jYQ6f3u2K5i",
        "outputId": "9af099ce-c3d2-4c23-cf66-2cddcd43b7f0"
      },
      "execution_count": 37,
      "outputs": [
        {
          "output_type": "stream",
          "name": "stdout",
          "text": [
            "Simulated Annealing Accuracy is 0.1947565543071161\n"
          ]
        }
      ]
    },
    {
      "cell_type": "markdown",
      "source": [
        "**Analysis:**\n",
        "\n",
        "Simulated Annealing algorithm is used to find global optima; however, it is not always correct. The accuracy depends on the comparsion result between the expoential of change and a random number. We try with larger number of iteration (ex. change the initial temperature), with larger num of iteration, the accuracy can be increased.\n"
      ],
      "metadata": {
        "id": "Bt7eaaastrNl"
      }
    },
    {
      "cell_type": "markdown",
      "source": [
        "---"
      ],
      "metadata": {
        "id": "gT446qaXts6e"
      }
    },
    {
      "cell_type": "markdown",
      "source": [
        "**Genetic Algorithm (Population-Based algorithm)**\n",
        "\n",
        "\n"
      ],
      "metadata": {
        "id": "Ca-4CzlCbgA-"
      }
    },
    {
      "cell_type": "markdown",
      "source": [
        "**NOTICE**: we try to reduce the time of this algorithm but it still takes around **1 minutes** to run"
      ],
      "metadata": {
        "id": "PUqiAocDOHZb"
      }
    },
    {
      "cell_type": "code",
      "source": [
        "import random\n",
        "\n",
        "\n",
        "def calculate_fitness(ind, prices, weights, capacity):\n",
        "    total_weight = sum(ind[i] * weights[i] for i in range(len(ind)))\n",
        "    if total_weight > capacity:\n",
        "      return 0  #solutions that exceed the capacity\n",
        "    fitness = sum(ind[i] * prices[i] for i in range(len(ind)))\n",
        "    return fitness\n",
        "\n",
        "def crossover(parent1, parent2, cross_rate):\n",
        "\n",
        "    if random.random() < cross_rate:\n",
        "\n",
        "      #determine if the point where child\n",
        "      crossover_point = random.randint(0, len(parent1))\n",
        "      child1 = parent1[:crossover_point] + parent2[crossover_point:]\n",
        "      child2 = parent2[:crossover_point] + parent1[crossover_point:]\n",
        "    else:\n",
        "        child1, child2 = parent1, parent2\n",
        "    return child1, child2\n",
        "\n",
        "\n",
        "def mutation(child, mut_rate):\n",
        "    for i in range(len(child)):\n",
        "        if random.random() < mut_rate:\n",
        "            child[i] = 1 - child[i]  # Flip the bit (0 to 1 or 1 to 0)\n",
        "    return child\n",
        "\n",
        "def genetic_algorithm(data, population_size, num_generations, mut_rate, cross_rate, tournament_size):\n",
        "    weights = data['Weights']\n",
        "    prices = data['Prices']\n",
        "    capacity = data['Capacity']\n",
        "    num_items = len(weights)\n",
        "\n",
        "    best_solution = [0,0,0,0,0]\n",
        "    best_solution_price = 0\n",
        "\n",
        "\n",
        "    # Generate the population randomly\n",
        "    # might have duplicated solution\n",
        "    population = [[random.randint(0, 1) for _ in range(num_items)] for _ in range(population_size)]\n",
        "\n",
        "    for generation in range(num_generations):\n",
        "\n",
        "        # Calculate fitness for each individual in the population\n",
        "        fitness_values = [calculate_fitness(ind, prices, weights, capacity) for ind in population]\n",
        "\n",
        "        # Select parents for the next generation using tournament selection\n",
        "        # choose the best \"tournament_size\" parents\n",
        "        selected_parents = random.sample(population, tournament_size)\n",
        "\n",
        "        #Start the mutation process\n",
        "        parent1, parent2 = random.sample(selected_parents, 2)\n",
        "        child1, child2 = crossover(parent1, parent2, cross_rate)\n",
        "        child1 = mutation(child1, mut_rate)\n",
        "        child2 = mutation(child2, mut_rate)\n",
        "\n",
        "        # Find the best solution in the current generation\n",
        "        generation_best = child1\n",
        "        generation_best_price = calculate_fitness(child1,prices,weights,capacity)\n",
        "        if calculate_fitness(child1,prices,weights,capacity) < calculate_fitness(child2,prices,weights,capacity):\n",
        "\n",
        "          generation_best_price = calculate_fitness(child2,prices,weights,capacity)\n",
        "          generation_best = child2\n",
        "\n",
        "\n",
        "        # Update the overall best solution if needed\n",
        "        if generation_best_price > best_solution_price:\n",
        "            best_solution = generation_best.copy()\n",
        "            best_solution_price = generation_best_price\n",
        "\n",
        "    return best_solution_price, best_solution"
      ],
      "metadata": {
        "id": "98KDe5tVbbQB"
      },
      "execution_count": 38,
      "outputs": []
    },
    {
      "cell_type": "code",
      "source": [
        "solutions_ga = []\n",
        "for _, row in dataset.iterrows():\n",
        "    target = row['Best price']\n",
        "    solution, indexes = genetic_algorithm(row, population_size = 50, num_generations = 50, mut_rate = 0.1, cross_rate = 0.9, tournament_size = 5)\n",
        "    solutions_ga.append(1 if target == solution else 0)\n"
      ],
      "metadata": {
        "id": "B8zpwvTA7Ge-"
      },
      "execution_count": 39,
      "outputs": []
    },
    {
      "cell_type": "code",
      "source": [
        "print(\"Genetic Algorithm Accuracy is\", np.mean(solutions_ga))"
      ],
      "metadata": {
        "id": "at-6mqRF7H48",
        "colab": {
          "base_uri": "https://localhost:8080/"
        },
        "outputId": "c8b3b9bc-471b-4c3e-cb29-52d6362626da"
      },
      "execution_count": 40,
      "outputs": [
        {
          "output_type": "stream",
          "name": "stdout",
          "text": [
            "Genetic Algorithm Accuracy is 0.929547525053143\n"
          ]
        }
      ]
    },
    {
      "cell_type": "markdown",
      "source": [
        "**Analysis:**\n",
        "\n",
        "Genetic algorithm takes longer than the other two algorithm, however; it's accuracy is the highest among 3 algorithms."
      ],
      "metadata": {
        "id": "qRzhXWCcMoDP"
      }
    },
    {
      "cell_type": "markdown",
      "source": [
        "---"
      ],
      "metadata": {
        "id": "1gvcnkyYOEjF"
      }
    },
    {
      "cell_type": "markdown",
      "source": [
        "## **Comparison among Greedy Search, Simulated Annealing and Genetic algorithm:**"
      ],
      "metadata": {
        "id": "99B7quCPNwDA"
      }
    },
    {
      "cell_type": "markdown",
      "source": [
        "             Time(s)      Accuracy\n",
        "Greedy_Search       1s          79%\n",
        "\n",
        "Simulated_Annealing    4s          20%\n",
        "\n",
        "Genetic Algorithm     71s         93%\n",
        "\n",
        "\n",
        "Throught the given test, we find that the genetic algorithm we design spends the most time but the highest accuracy. The greedy search spend the least time aournd 1s to search the solution with 79% accuracy. The simulated Annealing algoritm seem is the worst method only has 20% accuracy which is the lowest one.\n",
        "\n"
      ],
      "metadata": {
        "id": "Y4IGnDWuCSsz"
      }
    },
    {
      "cell_type": "markdown",
      "source": [
        "# impact of varying parameters on Simulated Annealing"
      ],
      "metadata": {
        "id": "MJJl5qtR6MuC"
      }
    },
    {
      "cell_type": "markdown",
      "source": [
        "Simulated Annealing:\n",
        "\n",
        "initial temrature: 1 -> 20 -> 50\n",
        "accuracy:      20% -> 55% -> 70%\n",
        "\n",
        "Initial temprature determines how much the algorithm can explore the solution space initially. A high initial temperature allows the algorithm to accept more non-improving solutions initially, promoting exploration over exploitation. As the initial temprature increase, the solution amounts goes up slower.\n",
        "\n",
        "\n",
        "Cool rate: 0.95 -> 0.5 -> 0.1\n",
        "accuracy: 20% -> 11% -> 0.06%\n",
        "\n",
        "The cooling rate significantly negatively affects the accuracy of the algorithm\n",
        "\n"
      ],
      "metadata": {
        "id": "yG8oNKry6vw8"
      }
    },
    {
      "cell_type": "markdown",
      "source": [
        "# impact of varying parameters on Genetic algorithm:"
      ],
      "metadata": {
        "id": "t9uXcjlh9lIL"
      }
    },
    {
      "cell_type": "markdown",
      "source": [
        "Population Size:\n",
        "\n",
        "\n",
        "Higher population Size generates more diverse solutions, leading to a better chance of finding the optimal or near-optimal solution.Increased computational cost due to larger population to handle.\n",
        "\n",
        "Number of Generations:\n",
        "\n",
        "More chances for the algorithm to improve the solutions and might contains over-iterations where no significant improvement is seen over multiple generations, wasting computational resources. Low generation amounts cause the inaccuracy.\n",
        "\n",
        "\n",
        "Mutation Rate:\n",
        "\n",
        "Higher mutation rate generates more randomness and explorations. If the rate is over-sized, it could disrupt good solutions, making the algorithm behave more like a random search. Low mutation rate cause stabilisation and refines the current solutions which the population might lack diversity, leading to premature convergence.\n",
        "\n",
        "Crossover Rate:\n",
        "High crossover rate generates more solutions in the population undergo crossover, producing more diverse offspring.The algorithm might rely too much on recombination and not enough on preserving good existing solutions.\n",
        "Low crossover rate maintains the original population and the algorithm lose its function.\n",
        "\n"
      ],
      "metadata": {
        "id": "0XIp1lGW9qgj"
      }
    },
    {
      "cell_type": "markdown",
      "source": [
        "**Conclusion:**"
      ],
      "metadata": {
        "id": "Po-wFnyNvuUM"
      }
    },
    {
      "cell_type": "markdown",
      "source": [
        "With small amount of data, generate and test guarantee 100% accuracy\n",
        "\n",
        "However; with larger amount, some algorithm should be deployed.\n",
        "\n",
        "Greedy Search is to find the best solution compare to current situation, solution is not always the best but accuracy is acceptable\n",
        "\n",
        "Simulated Annealing algorithm works for large number of iteration, the larger the temperature range, the more accurate the result is. However, if the range is not large enough, accuracy is low.\n",
        "\n",
        "Genetic algorithm takes longer time compare to the the first two algorithms since the tournament lasts for many generation. Most of the result it produces are correct.\n"
      ],
      "metadata": {
        "id": "-JuCKCRVvwxM"
      }
    }
  ]
}